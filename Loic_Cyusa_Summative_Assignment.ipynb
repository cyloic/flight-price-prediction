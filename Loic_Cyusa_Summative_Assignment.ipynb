{
  "cells": [
    {
      "cell_type": "code",
      "execution_count": 42,
      "metadata": {
        "id": "Se_6RQ11GQ9h"
      },
      "outputs": [],
      "source": [
        "import pandas as pd\n",
        "import numpy as np\n",
        "import matplotlib.pyplot as plt\n",
        "import seaborn as sns\n",
        "from sklearn.model_selection import train_test_split\n",
        "from sklearn.linear_model import SGDRegressor\n",
        "from sklearn.tree import DecisionTreeRegressor\n",
        "from sklearn.ensemble import RandomForestRegressor\n",
        "from sklearn.metrics import mean_absolute_error, mean_squared_error, r2_score\n",
        "from sklearn.preprocessing import StandardScaler\n",
        "import joblib"
      ]
    },
    {
      "cell_type": "code",
      "execution_count": 24,
      "metadata": {},
      "outputs": [],
      "source": [
        "%matplotlib inline"
      ]
    },
    {
      "cell_type": "markdown",
      "metadata": {
        "id": "_5ii7n5yGRly"
      },
      "source": [
        "# Load Dataset from Google Drive"
      ]
    },
    {
      "cell_type": "code",
      "execution_count": 43,
      "metadata": {
        "colab": {
          "base_uri": "https://localhost:8080/",
          "height": 108
        },
        "id": "hNfkPkfLGT2z",
        "outputId": "8c420d9c-2f1c-481f-aad1-49a16ab23a21"
      },
      "outputs": [],
      "source": [
        "# Load dataset\n",
        "train_data = pd.read_excel(\"Data_Train.xlsx\")  # Ensure the correct file path\n"
      ]
    },
    {
      "cell_type": "code",
      "execution_count": 44,
      "metadata": {},
      "outputs": [
        {
          "data": {
            "text/html": [
              "<div>\n",
              "<style scoped>\n",
              "    .dataframe tbody tr th:only-of-type {\n",
              "        vertical-align: middle;\n",
              "    }\n",
              "\n",
              "    .dataframe tbody tr th {\n",
              "        vertical-align: top;\n",
              "    }\n",
              "\n",
              "    .dataframe thead th {\n",
              "        text-align: right;\n",
              "    }\n",
              "</style>\n",
              "<table border=\"1\" class=\"dataframe\">\n",
              "  <thead>\n",
              "    <tr style=\"text-align: right;\">\n",
              "      <th></th>\n",
              "      <th>Airline</th>\n",
              "      <th>Date_of_Journey</th>\n",
              "      <th>Source</th>\n",
              "      <th>Destination</th>\n",
              "      <th>Route</th>\n",
              "      <th>Dep_Time</th>\n",
              "      <th>Arrival_Time</th>\n",
              "      <th>Duration</th>\n",
              "      <th>Total_Stops</th>\n",
              "      <th>Additional_Info</th>\n",
              "      <th>Price</th>\n",
              "    </tr>\n",
              "  </thead>\n",
              "  <tbody>\n",
              "    <tr>\n",
              "      <th>0</th>\n",
              "      <td>IndiGo</td>\n",
              "      <td>24/03/2019</td>\n",
              "      <td>Banglore</td>\n",
              "      <td>New Delhi</td>\n",
              "      <td>BLR → DEL</td>\n",
              "      <td>22:20</td>\n",
              "      <td>01:10 22 Mar</td>\n",
              "      <td>2h 50m</td>\n",
              "      <td>non-stop</td>\n",
              "      <td>No info</td>\n",
              "      <td>3897</td>\n",
              "    </tr>\n",
              "    <tr>\n",
              "      <th>1</th>\n",
              "      <td>Air India</td>\n",
              "      <td>1/05/2019</td>\n",
              "      <td>Kolkata</td>\n",
              "      <td>Banglore</td>\n",
              "      <td>CCU → IXR → BBI → BLR</td>\n",
              "      <td>05:50</td>\n",
              "      <td>13:15</td>\n",
              "      <td>7h 25m</td>\n",
              "      <td>2 stops</td>\n",
              "      <td>No info</td>\n",
              "      <td>7662</td>\n",
              "    </tr>\n",
              "    <tr>\n",
              "      <th>2</th>\n",
              "      <td>Jet Airways</td>\n",
              "      <td>9/06/2019</td>\n",
              "      <td>Delhi</td>\n",
              "      <td>Cochin</td>\n",
              "      <td>DEL → LKO → BOM → COK</td>\n",
              "      <td>09:25</td>\n",
              "      <td>04:25 10 Jun</td>\n",
              "      <td>19h</td>\n",
              "      <td>2 stops</td>\n",
              "      <td>No info</td>\n",
              "      <td>13882</td>\n",
              "    </tr>\n",
              "    <tr>\n",
              "      <th>3</th>\n",
              "      <td>IndiGo</td>\n",
              "      <td>12/05/2019</td>\n",
              "      <td>Kolkata</td>\n",
              "      <td>Banglore</td>\n",
              "      <td>CCU → NAG → BLR</td>\n",
              "      <td>18:05</td>\n",
              "      <td>23:30</td>\n",
              "      <td>5h 25m</td>\n",
              "      <td>1 stop</td>\n",
              "      <td>No info</td>\n",
              "      <td>6218</td>\n",
              "    </tr>\n",
              "    <tr>\n",
              "      <th>4</th>\n",
              "      <td>IndiGo</td>\n",
              "      <td>01/03/2019</td>\n",
              "      <td>Banglore</td>\n",
              "      <td>New Delhi</td>\n",
              "      <td>BLR → NAG → DEL</td>\n",
              "      <td>16:50</td>\n",
              "      <td>21:35</td>\n",
              "      <td>4h 45m</td>\n",
              "      <td>1 stop</td>\n",
              "      <td>No info</td>\n",
              "      <td>13302</td>\n",
              "    </tr>\n",
              "  </tbody>\n",
              "</table>\n",
              "</div>"
            ],
            "text/plain": [
              "       Airline Date_of_Journey    Source Destination                  Route  \\\n",
              "0       IndiGo      24/03/2019  Banglore   New Delhi              BLR → DEL   \n",
              "1    Air India       1/05/2019   Kolkata    Banglore  CCU → IXR → BBI → BLR   \n",
              "2  Jet Airways       9/06/2019     Delhi      Cochin  DEL → LKO → BOM → COK   \n",
              "3       IndiGo      12/05/2019   Kolkata    Banglore        CCU → NAG → BLR   \n",
              "4       IndiGo      01/03/2019  Banglore   New Delhi        BLR → NAG → DEL   \n",
              "\n",
              "  Dep_Time  Arrival_Time Duration Total_Stops Additional_Info  Price  \n",
              "0    22:20  01:10 22 Mar   2h 50m    non-stop         No info   3897  \n",
              "1    05:50         13:15   7h 25m     2 stops         No info   7662  \n",
              "2    09:25  04:25 10 Jun      19h     2 stops         No info  13882  \n",
              "3    18:05         23:30   5h 25m      1 stop         No info   6218  \n",
              "4    16:50         21:35   4h 45m      1 stop         No info  13302  "
            ]
          },
          "metadata": {},
          "output_type": "display_data"
        }
      ],
      "source": [
        "# Display first few rows\n",
        "display(train_data.head())"
      ]
    },
    {
      "cell_type": "code",
      "execution_count": 46,
      "metadata": {},
      "outputs": [],
      "source": [
        "# Preprocess data (Example: handling missing values and encoding categorical variables)\n",
        "train_data.fillna(train_data.select_dtypes(include=[np.number]).mean(), inplace=True)\n",
        "train_data = pd.get_dummies(train_data, drop_first=True)"
      ]
    },
    {
      "cell_type": "code",
      "execution_count": 47,
      "metadata": {},
      "outputs": [],
      "source": [
        "# Splitting features and target variable (Assuming 'Price' is the column to predict)\n",
        "X = train_data.drop(columns=['Price'])\n",
        "y = train_data['Price']"
      ]
    },
    {
      "cell_type": "code",
      "execution_count": 48,
      "metadata": {},
      "outputs": [],
      "source": [
        "# Splitting the data\n",
        "X_train, X_test, y_train, y_test = train_test_split(X, y, test_size=0.2, random_state=42)"
      ]
    },
    {
      "cell_type": "code",
      "execution_count": 30,
      "metadata": {},
      "outputs": [
        {
          "name": "stdout",
          "output_type": "stream",
          "text": [
            "(8546, 2133) (8546,)\n"
          ]
        }
      ],
      "source": [
        "print(X_train.shape, y_train.shape)\n"
      ]
    },
    {
      "cell_type": "code",
      "execution_count": 31,
      "metadata": {},
      "outputs": [],
      "source": [
        "from sklearn.preprocessing import StandardScaler\n",
        "scaler = StandardScaler()\n"
      ]
    },
    {
      "cell_type": "code",
      "execution_count": 49,
      "metadata": {},
      "outputs": [],
      "source": [
        "# Standardize the features\n",
        "scaler = StandardScaler()\n",
        "X_train = scaler.fit_transform(X_train)\n",
        "X_test = scaler.transform(X_test)"
      ]
    },
    {
      "cell_type": "code",
      "execution_count": 50,
      "metadata": {},
      "outputs": [],
      "source": [
        "# Initialize and train SGDRegressor with warm_start=True\n",
        "lin_reg = SGDRegressor(max_iter=1, tol=None, warm_start=True, learning_rate='constant', eta0=0.01)\n",
        "loss_curve = []"
      ]
    },
    {
      "cell_type": "code",
      "execution_count": 51,
      "metadata": {},
      "outputs": [],
      "source": [
        "for i in range(100):  # 100 iterations\n",
        "    lin_reg.partial_fit(X_train, y_train)\n",
        "    y_pred = lin_reg.predict(X_train)\n",
        "    loss = mean_squared_error(y_train, y_pred)\n",
        "    loss_curve.append(loss)"
      ]
    },
    {
      "cell_type": "code",
      "execution_count": 52,
      "metadata": {},
      "outputs": [],
      "source": [
        "# Evaluate model\n",
        "y_test_pred = lin_reg.predict(X_test)\n",
        "mse = mean_squared_error(y_test, y_test_pred)\n",
        "r2 = r2_score(y_test, y_test_pred)"
      ]
    },
    {
      "cell_type": "code",
      "execution_count": 53,
      "metadata": {},
      "outputs": [
        {
          "name": "stdout",
          "output_type": "stream",
          "text": [
            "Test MSE: 250034458604891201276477440.0000\n",
            "Test R^2 Score: -11814158931604695040.0000\n"
          ]
        }
      ],
      "source": [
        "print(f\"Test MSE: {mse:.4f}\")\n",
        "print(f\"Test R^2 Score: {r2:.4f}\")"
      ]
    },
    {
      "cell_type": "code",
      "execution_count": 54,
      "metadata": {},
      "outputs": [
        {
          "data": {
            "image/png": "[encoded data removed]",
            "text/plain": [
              "<Figure size 800x500 with 1 Axes>"
            ]
          },
          "metadata": {},
          "output_type": "display_data"
        }
      ],
      "source": [
        "# Plot loss curve\n",
        "plt.figure(figsize=(8, 5))\n",
        "plt.plot(loss_curve, label='Train Loss', color='blue')\n",
        "plt.xlabel(\"Iterations\")\n",
        "plt.ylabel(\"Loss\")\n",
        "plt.title(\"Linear Regression Loss Curve\")\n",
        "plt.legend()\n",
        "plt.show()"
      ]
    },
    {
      "cell_type": "code",
      "execution_count": 55,
      "metadata": {},
      "outputs": [],
      "source": [
        "# Train and evaluate other models\n",
        "models = {\n",
        "    \"Linear Regression (SGD)\": lin_reg,\n",
        "    \"Decision Tree\": DecisionTreeRegressor(),\n",
        "    \"Random Forest\": RandomForestRegressor()\n",
        "}"
      ]
    },
    {
      "cell_type": "code",
      "execution_count": 56,
      "metadata": {},
      "outputs": [],
      "source": [
        "results = []\n",
        "for name, model in models.items():\n",
        "    if name != \"Linear Regression (SGD)\":\n",
        "        model.fit(X_train, y_train)\n",
        "    \n",
        "    predictions = model.predict(X_test)\n",
        "    mse = mean_squared_error(y_test, predictions)\n",
        "    r2 = r2_score(y_test, predictions)\n",
        "    \n",
        "    results.append({\"Model\": name, \"MSE\": mse, \"R² Score\": r2})"
      ]
    },
    {
      "cell_type": "code",
      "execution_count": 57,
      "metadata": {},
      "outputs": [],
      "source": [
        "# Convert results into a DataFrame\n",
        "results_df = pd.DataFrame(results)"
      ]
    },
    {
      "cell_type": "code",
      "execution_count": 58,
      "metadata": {},
      "outputs": [
        {
          "data": {
            "text/html": [
              "<div>\n",
              "<style scoped>\n",
              "    .dataframe tbody tr th:only-of-type {\n",
              "        vertical-align: middle;\n",
              "    }\n",
              "\n",
              "    .dataframe tbody tr th {\n",
              "        vertical-align: top;\n",
              "    }\n",
              "\n",
              "    .dataframe thead th {\n",
              "        text-align: right;\n",
              "    }\n",
              "</style>\n",
              "<table border=\"1\" class=\"dataframe\">\n",
              "  <thead>\n",
              "    <tr style=\"text-align: right;\">\n",
              "      <th></th>\n",
              "      <th>Model</th>\n",
              "      <th>MSE</th>\n",
              "      <th>R² Score</th>\n",
              "    </tr>\n",
              "  </thead>\n",
              "  <tbody>\n",
              "    <tr>\n",
              "      <th>0</th>\n",
              "      <td>Linear Regression (SGD)</td>\n",
              "      <td>2.500345e+26</td>\n",
              "      <td>-1.181416e+19</td>\n",
              "    </tr>\n",
              "    <tr>\n",
              "      <th>1</th>\n",
              "      <td>Decision Tree</td>\n",
              "      <td>2.489351e+06</td>\n",
              "      <td>8.823779e-01</td>\n",
              "    </tr>\n",
              "    <tr>\n",
              "      <th>2</th>\n",
              "      <td>Random Forest</td>\n",
              "      <td>2.177164e+06</td>\n",
              "      <td>8.971287e-01</td>\n",
              "    </tr>\n",
              "  </tbody>\n",
              "</table>\n",
              "</div>"
            ],
            "text/plain": [
              "                     Model           MSE      R² Score\n",
              "0  Linear Regression (SGD)  2.500345e+26 -1.181416e+19\n",
              "1            Decision Tree  2.489351e+06  8.823779e-01\n",
              "2            Random Forest  2.177164e+06  8.971287e-01"
            ]
          },
          "metadata": {},
          "output_type": "display_data"
        }
      ],
      "source": [
        "# Display the comparison table\n",
        "display(results_df)"
      ]
    },
    {
      "cell_type": "code",
      "execution_count": 59,
      "metadata": {},
      "outputs": [
        {
          "data": {
            "image/png": "[encoded data removed]",
            "text/plain": [
              "<Figure size 800x500 with 2 Axes>"
            ]
          },
          "metadata": {},
          "output_type": "display_data"
        }
      ],
      "source": [
        "# Create a heatmap for MSE & R² Score\n",
        "plt.figure(figsize=(8, 5))\n",
        "sns.heatmap(results_df.set_index(\"Model\"), annot=True, fmt=\".4f\", cmap=\"coolwarm\", linewidths=1)\n",
        "plt.title(\"Model Performance Comparison (Lower MSE is Better, Higher R² is Better)\")\n",
        "plt.show()"
      ]
    },
    {
      "cell_type": "code",
      "execution_count": 41,
      "metadata": {},
      "outputs": [
        {
          "data": {
            "text/plain": [
              "['best_model.pkl']"
            ]
          },
          "execution_count": 41,
          "metadata": {},
          "output_type": "execute_result"
        }
      ],
      "source": [
        "# Save best model\n",
        "joblib.dump(lin_reg, \"best_model.pkl\")"
      ]
    },
    {
      "cell_type": "code",
      "execution_count": 67,
      "metadata": {},
      "outputs": [
        {
          "name": "stdout",
          "output_type": "stream",
          "text": [
            "Predicted Flight Price: 7352.026056581388\n"
          ]
        }
      ],
      "source": [
        "import pandas as pd\n",
        "import joblib\n",
        "import re\n",
        "from sklearn.preprocessing import OneHotEncoder, StandardScaler\n",
        "from sklearn.linear_model import LinearRegression\n",
        "\n",
        "# Load datasets\n",
        "df = pd.read_excel(\"Data_Train.xlsx\")\n",
        "\n",
        "# Drop null values and unnecessary columns\n",
        "df.dropna(inplace=True)\n",
        "df.drop(columns=[\"Route\", \"Additional_Info\", \"Date_of_Journey\"], inplace=True)\n",
        "\n",
        "# Convert Duration column to total minutes\n",
        "def convert_duration(duration):\n",
        "    \"\"\"Convert '2h 50m' into total minutes (170).\"\"\"\n",
        "    hours = re.search(r'(\\d+)h', duration)\n",
        "    minutes = re.search(r'(\\d+)m', duration)\n",
        "    total_minutes = (int(hours.group(1)) * 60 if hours else 0) + (int(minutes.group(1)) if minutes else 0)\n",
        "    return total_minutes\n",
        "\n",
        "df[\"Duration\"] = df[\"Duration\"].apply(convert_duration)\n",
        "\n",
        "# Convert 'Total_Stops' column to numerical format\n",
        "stops_mapping = {\"non-stop\": 0, \"1 stop\": 1, \"2 stops\": 2, \"3 stops\": 3, \"4 stops\": 4}\n",
        "df[\"Total_Stops\"] = df[\"Total_Stops\"].map(stops_mapping)\n",
        "\n",
        "# Define categorical and numerical columns\n",
        "categorical_cols = [\"Airline\", \"Source\", \"Destination\"]\n",
        "numerical_cols = [\"Duration\", \"Total_Stops\"]\n",
        "\n",
        "# Fit transformers\n",
        "encoder = OneHotEncoder(handle_unknown=\"ignore\")\n",
        "scaler = StandardScaler()\n",
        "\n",
        "encoder.fit(df[categorical_cols])\n",
        "scaler.fit(df[numerical_cols])\n",
        "\n",
        "# Save transformers to avoid refitting\n",
        "joblib.dump(encoder, \"encoder.pkl\")\n",
        "joblib.dump(scaler, \"scaler.pkl\")\n",
        "\n",
        "# Train the model\n",
        "X_cat = encoder.transform(df[categorical_cols]).toarray()\n",
        "X_num = scaler.transform(df[numerical_cols])\n",
        "X_train = pd.concat([pd.DataFrame(X_cat), pd.DataFrame(X_num)], axis=1)\n",
        "y_train = df[\"Price\"]\n",
        "\n",
        "model = LinearRegression()\n",
        "model.fit(X_train, y_train)\n",
        "\n",
        "# Save the trained model\n",
        "joblib.dump(model, \"flight_price_model.pkl\")\n",
        "\n",
        "# API Prediction Function (without terminal)\n",
        "def predict_price(input_data):\n",
        "    \"\"\"Predict flight price based on input features.\"\"\"\n",
        "    encoder = joblib.load(\"encoder.pkl\")\n",
        "    scaler = joblib.load(\"scaler.pkl\")\n",
        "    model = joblib.load(\"flight_price_model.pkl\")\n",
        "\n",
        "    # Convert input to DataFrame\n",
        "    df_input = pd.DataFrame(input_data)\n",
        "\n",
        "    # Convert Duration\n",
        "    df_input[\"Duration\"] = df_input[\"Duration\"].apply(convert_duration)\n",
        "    \n",
        "    # Convert Stops\n",
        "    df_input[\"Total_Stops\"] = df_input[\"Total_Stops\"].map(stops_mapping)\n",
        "\n",
        "    # Apply transformations\n",
        "    cat_transformed = encoder.transform(df_input[categorical_cols]).toarray()\n",
        "    num_transformed = scaler.transform(df_input[numerical_cols])\n",
        "\n",
        "    # Merge features & predict\n",
        "    X_input = pd.concat([pd.DataFrame(cat_transformed), pd.DataFrame(num_transformed)], axis=1)\n",
        "    predicted_price = model.predict(X_input)\n",
        "\n",
        "    return predicted_price[0]\n",
        "\n",
        "# Example Prediction (Run this inside the notebook)\n",
        "example_input = [{\"Airline\": \"IndiGo\", \"Source\": \"Delhi\", \"Destination\": \"Cochin\", \"Duration\": \"2h 50m\", \"Total_Stops\": \"1 stop\"}]\n",
        "predicted_price = predict_price(example_input)\n",
        "print(\"Predicted Flight Price:\", predicted_price)\n"
      ]
    },
    {
      "cell_type": "code",
      "execution_count": 2,
      "metadata": {},
      "outputs": [
        {
          "name": "stdout",
          "output_type": "stream",
          "text": [
            "✅ Model trained and saved successfully!\n"
          ]
        }
      ],
      "source": [
        "import pickle\n",
        "from sklearn.linear_model import SGDRegressor  # Example model\n",
        "from sklearn.preprocessing import StandardScaler\n",
        "from sklearn.pipeline import make_pipeline\n",
        "from sklearn.datasets import make_regression\n",
        "\n",
        "# Create sample data\n",
        "X, y = make_regression(n_samples=100, n_features=5, noise=0.1)\n",
        "\n",
        "# Define the model\n",
        "model = make_pipeline(StandardScaler(), SGDRegressor())\n",
        "\n",
        "# Train the model\n",
        "model.fit(X, y)\n",
        "\n",
        "# Save the trained model\n",
        "with open(\"best_model.pkl\", \"wb\") as f:\n",
        "    pickle.dump(model, f)\n",
        "\n",
        "print(\"✅ Model trained and saved successfully!\")\n"
      ]
    },
    {
      "cell_type": "code",
      "execution_count": null,
      "metadata": {},
      "outputs": [],
      "source": [
        "import nest_asyncio\n",
        "import uvicorn\n",
        "\n",
        "nest_asyncio.apply()  # Allow FastAPI to run inside Jupyter\n",
        "\n",
        "# Run FastAPI server\n",
        "uvicorn.run(\"predict:app\", host=\"127.0.0.1\", port=8000, reload=True)\n"
      ]
    }
  ],
  "metadata": {
    "accelerator": "GPU",
    "colab": {
      "provenance": []
    },
    "coursera": {
      "schema_names": [
        "AI4MC1-1"
      ]
    },
    "grader_version": "1",
    "kernelspec": {
      "display_name": ".venv",
      "language": "python",
      "name": "python3"
    },
    "language_info": {
      "codemirror_mode": {
        "name": "ipython",
        "version": 3
      },
      "file_extension": ".py",
      "mimetype": "text/x-python",
      "name": "python",
      "nbconvert_exporter": "python",
      "pygments_lexer": "ipython3",
      "version": "3.13.2"
    },
    "toc": {
      "base_numbering": 1,
      "nav_menu": {},
      "number_sections": true,
      "sideBar": true,
      "skip_h1_title": false,
      "title_cell": "Table of Contents",
      "title_sidebar": "Contents",
      "toc_cell": false,
      "toc_position": {},
      "toc_section_display": true,
      "toc_window_display": false
    }
  },
  "nbformat": 4,
  "nbformat_minor": 0
}
